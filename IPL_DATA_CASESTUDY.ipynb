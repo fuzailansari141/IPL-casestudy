{
 "cells": [
  {
   "cell_type": "code",
   "execution_count": 1,
   "id": "254f83c2",
   "metadata": {
    "id": "254f83c2"
   },
   "outputs": [],
   "source": [
    "#import all libraries\n",
    "import pandas as pd\n",
    "import numpy as np\n",
    "import matplotlib.pyplot as plt\n",
    "import seaborn as sns \n",
    "import warnings\n",
    "warnings.filterwarnings(\"ignore\")"
   ]
  },
  {
   "cell_type": "code",
   "execution_count": 2,
   "id": "fde3a909",
   "metadata": {
    "id": "fde3a909",
    "outputId": "763b6ccc-5828-421b-990c-65637f9a1ee2"
   },
   "outputs": [
    {
     "data": {
      "text/html": [
       "<div>\n",
       "<style scoped>\n",
       "    .dataframe tbody tr th:only-of-type {\n",
       "        vertical-align: middle;\n",
       "    }\n",
       "\n",
       "    .dataframe tbody tr th {\n",
       "        vertical-align: top;\n",
       "    }\n",
       "\n",
       "    .dataframe thead th {\n",
       "        text-align: right;\n",
       "    }\n",
       "</style>\n",
       "<table border=\"1\" class=\"dataframe\">\n",
       "  <thead>\n",
       "    <tr style=\"text-align: right;\">\n",
       "      <th></th>\n",
       "      <th>id</th>\n",
       "      <th>season</th>\n",
       "      <th>city</th>\n",
       "      <th>date</th>\n",
       "      <th>team1</th>\n",
       "      <th>team2</th>\n",
       "      <th>toss_winner</th>\n",
       "      <th>toss_decision</th>\n",
       "      <th>result</th>\n",
       "      <th>dl_applied</th>\n",
       "      <th>winner</th>\n",
       "      <th>win_by_runs</th>\n",
       "      <th>win_by_wickets</th>\n",
       "      <th>player_of_match</th>\n",
       "      <th>venue</th>\n",
       "      <th>umpire1</th>\n",
       "      <th>umpire2</th>\n",
       "      <th>umpire3</th>\n",
       "    </tr>\n",
       "  </thead>\n",
       "  <tbody>\n",
       "    <tr>\n",
       "      <th>0</th>\n",
       "      <td>1</td>\n",
       "      <td>2017</td>\n",
       "      <td>Hyderabad</td>\n",
       "      <td>2017-04-05</td>\n",
       "      <td>Sunrisers Hyderabad</td>\n",
       "      <td>Royal Challengers Bangalore</td>\n",
       "      <td>Royal Challengers Bangalore</td>\n",
       "      <td>field</td>\n",
       "      <td>normal</td>\n",
       "      <td>0</td>\n",
       "      <td>Sunrisers Hyderabad</td>\n",
       "      <td>35</td>\n",
       "      <td>0</td>\n",
       "      <td>Yuvraj Singh</td>\n",
       "      <td>Rajiv Gandhi International Stadium, Uppal</td>\n",
       "      <td>AY Dandekar</td>\n",
       "      <td>NJ Llong</td>\n",
       "      <td>NaN</td>\n",
       "    </tr>\n",
       "    <tr>\n",
       "      <th>1</th>\n",
       "      <td>2</td>\n",
       "      <td>2017</td>\n",
       "      <td>Pune</td>\n",
       "      <td>2017-04-06</td>\n",
       "      <td>Mumbai Indians</td>\n",
       "      <td>Rising Pune Supergiant</td>\n",
       "      <td>Rising Pune Supergiant</td>\n",
       "      <td>field</td>\n",
       "      <td>normal</td>\n",
       "      <td>0</td>\n",
       "      <td>Rising Pune Supergiant</td>\n",
       "      <td>0</td>\n",
       "      <td>7</td>\n",
       "      <td>SPD Smith</td>\n",
       "      <td>Maharashtra Cricket Association Stadium</td>\n",
       "      <td>A Nand Kishore</td>\n",
       "      <td>S Ravi</td>\n",
       "      <td>NaN</td>\n",
       "    </tr>\n",
       "    <tr>\n",
       "      <th>2</th>\n",
       "      <td>3</td>\n",
       "      <td>2017</td>\n",
       "      <td>Rajkot</td>\n",
       "      <td>2017-04-07</td>\n",
       "      <td>Gujarat Lions</td>\n",
       "      <td>Kolkata Knight Riders</td>\n",
       "      <td>Kolkata Knight Riders</td>\n",
       "      <td>field</td>\n",
       "      <td>normal</td>\n",
       "      <td>0</td>\n",
       "      <td>Kolkata Knight Riders</td>\n",
       "      <td>0</td>\n",
       "      <td>10</td>\n",
       "      <td>CA Lynn</td>\n",
       "      <td>Saurashtra Cricket Association Stadium</td>\n",
       "      <td>Nitin Menon</td>\n",
       "      <td>CK Nandan</td>\n",
       "      <td>NaN</td>\n",
       "    </tr>\n",
       "    <tr>\n",
       "      <th>3</th>\n",
       "      <td>4</td>\n",
       "      <td>2017</td>\n",
       "      <td>Indore</td>\n",
       "      <td>2017-04-08</td>\n",
       "      <td>Rising Pune Supergiant</td>\n",
       "      <td>Kings XI Punjab</td>\n",
       "      <td>Kings XI Punjab</td>\n",
       "      <td>field</td>\n",
       "      <td>normal</td>\n",
       "      <td>0</td>\n",
       "      <td>Kings XI Punjab</td>\n",
       "      <td>0</td>\n",
       "      <td>6</td>\n",
       "      <td>GJ Maxwell</td>\n",
       "      <td>Holkar Cricket Stadium</td>\n",
       "      <td>AK Chaudhary</td>\n",
       "      <td>C Shamshuddin</td>\n",
       "      <td>NaN</td>\n",
       "    </tr>\n",
       "    <tr>\n",
       "      <th>4</th>\n",
       "      <td>5</td>\n",
       "      <td>2017</td>\n",
       "      <td>Bangalore</td>\n",
       "      <td>2017-04-08</td>\n",
       "      <td>Royal Challengers Bangalore</td>\n",
       "      <td>Delhi Daredevils</td>\n",
       "      <td>Royal Challengers Bangalore</td>\n",
       "      <td>bat</td>\n",
       "      <td>normal</td>\n",
       "      <td>0</td>\n",
       "      <td>Royal Challengers Bangalore</td>\n",
       "      <td>15</td>\n",
       "      <td>0</td>\n",
       "      <td>KM Jadhav</td>\n",
       "      <td>M Chinnaswamy Stadium</td>\n",
       "      <td>NaN</td>\n",
       "      <td>NaN</td>\n",
       "      <td>NaN</td>\n",
       "    </tr>\n",
       "  </tbody>\n",
       "</table>\n",
       "</div>"
      ],
      "text/plain": [
       "   id  season       city        date                        team1  \\\n",
       "0   1    2017  Hyderabad  2017-04-05          Sunrisers Hyderabad   \n",
       "1   2    2017       Pune  2017-04-06               Mumbai Indians   \n",
       "2   3    2017     Rajkot  2017-04-07                Gujarat Lions   \n",
       "3   4    2017     Indore  2017-04-08       Rising Pune Supergiant   \n",
       "4   5    2017  Bangalore  2017-04-08  Royal Challengers Bangalore   \n",
       "\n",
       "                         team2                  toss_winner toss_decision  \\\n",
       "0  Royal Challengers Bangalore  Royal Challengers Bangalore         field   \n",
       "1       Rising Pune Supergiant       Rising Pune Supergiant         field   \n",
       "2        Kolkata Knight Riders        Kolkata Knight Riders         field   \n",
       "3              Kings XI Punjab              Kings XI Punjab         field   \n",
       "4             Delhi Daredevils  Royal Challengers Bangalore           bat   \n",
       "\n",
       "   result  dl_applied                       winner  win_by_runs  \\\n",
       "0  normal           0          Sunrisers Hyderabad           35   \n",
       "1  normal           0       Rising Pune Supergiant            0   \n",
       "2  normal           0        Kolkata Knight Riders            0   \n",
       "3  normal           0              Kings XI Punjab            0   \n",
       "4  normal           0  Royal Challengers Bangalore           15   \n",
       "\n",
       "   win_by_wickets player_of_match                                      venue  \\\n",
       "0               0    Yuvraj Singh  Rajiv Gandhi International Stadium, Uppal   \n",
       "1               7       SPD Smith    Maharashtra Cricket Association Stadium   \n",
       "2              10         CA Lynn     Saurashtra Cricket Association Stadium   \n",
       "3               6      GJ Maxwell                     Holkar Cricket Stadium   \n",
       "4               0       KM Jadhav                      M Chinnaswamy Stadium   \n",
       "\n",
       "          umpire1        umpire2  umpire3  \n",
       "0     AY Dandekar       NJ Llong      NaN  \n",
       "1  A Nand Kishore         S Ravi      NaN  \n",
       "2     Nitin Menon      CK Nandan      NaN  \n",
       "3    AK Chaudhary  C Shamshuddin      NaN  \n",
       "4             NaN            NaN      NaN  "
      ]
     },
     "execution_count": 2,
     "metadata": {},
     "output_type": "execute_result"
    }
   ],
   "source": [
    "#read ipl.csv file and print first 5 records\n",
    "df=pd.read_csv('ipl data.csv')\n",
    "df.head()"
   ]
  },
  {
   "cell_type": "code",
   "execution_count": 3,
   "id": "74a1c654",
   "metadata": {
    "id": "74a1c654",
    "outputId": "bc82e308-dac0-4d9e-e583-4b9eb6a26935"
   },
   "outputs": [
    {
     "name": "stdout",
     "output_type": "stream",
     "text": [
      "<class 'pandas.core.frame.DataFrame'>\n",
      "RangeIndex: 636 entries, 0 to 635\n",
      "Data columns (total 18 columns):\n",
      " #   Column           Non-Null Count  Dtype  \n",
      "---  ------           --------------  -----  \n",
      " 0   id               636 non-null    int64  \n",
      " 1   season           636 non-null    int64  \n",
      " 2   city             629 non-null    object \n",
      " 3   date             636 non-null    object \n",
      " 4   team1            636 non-null    object \n",
      " 5   team2            636 non-null    object \n",
      " 6   toss_winner      636 non-null    object \n",
      " 7   toss_decision    636 non-null    object \n",
      " 8   result           636 non-null    object \n",
      " 9   dl_applied       636 non-null    int64  \n",
      " 10  winner           633 non-null    object \n",
      " 11  win_by_runs      636 non-null    int64  \n",
      " 12  win_by_wickets   636 non-null    int64  \n",
      " 13  player_of_match  633 non-null    object \n",
      " 14  venue            636 non-null    object \n",
      " 15  umpire1          635 non-null    object \n",
      " 16  umpire2          635 non-null    object \n",
      " 17  umpire3          0 non-null      float64\n",
      "dtypes: float64(1), int64(5), object(12)\n",
      "memory usage: 89.6+ KB\n"
     ]
    }
   ],
   "source": [
    "#check total number of columns,entries note down your findings\n",
    "df.info()\n",
    "# There are total 18 number of columns and 636 rows.\n",
    "# The column's id,season,dl_applied,win_by_runs,win_by_wickets are integer datatypes.\n",
    "# Whereas the column umpire3 is of float datatypes with 0 rows.\n",
    "# And the other column's are of object(string) datatypes."
   ]
  },
  {
   "cell_type": "code",
   "execution_count": 4,
   "id": "6d5d9515",
   "metadata": {
    "id": "6d5d9515",
    "outputId": "8eb38621-ea93-4bc9-c240-08969c4526fe"
   },
   "outputs": [
    {
     "data": {
      "text/plain": [
       "id                   0\n",
       "season               0\n",
       "city                 7\n",
       "date                 0\n",
       "team1                0\n",
       "team2                0\n",
       "toss_winner          0\n",
       "toss_decision        0\n",
       "result               0\n",
       "dl_applied           0\n",
       "winner               3\n",
       "win_by_runs          0\n",
       "win_by_wickets       0\n",
       "player_of_match      3\n",
       "venue                0\n",
       "umpire1              1\n",
       "umpire2              1\n",
       "umpire3            636\n",
       "dtype: int64"
      ]
     },
     "execution_count": 4,
     "metadata": {},
     "output_type": "execute_result"
    }
   ],
   "source": [
    "# find null values \n",
    "df.isnull().sum()\n",
    "#The city column contains 7 null values.\n",
    "#the winner and player_of_match contains 3 null values\n",
    "#The umpire1 and umpire2 contains 1 null value.\n",
    "#Whereas the umpire3 column contains 636 null values."
   ]
  },
  {
   "cell_type": "code",
   "execution_count": 5,
   "id": "38fa43b0",
   "metadata": {
    "id": "38fa43b0"
   },
   "outputs": [
    {
     "data": {
      "text/plain": [
       "id                   0.000000\n",
       "season               0.000000\n",
       "city                 1.100629\n",
       "date                 0.000000\n",
       "team1                0.000000\n",
       "team2                0.000000\n",
       "toss_winner          0.000000\n",
       "toss_decision        0.000000\n",
       "result               0.000000\n",
       "dl_applied           0.000000\n",
       "winner               0.471698\n",
       "win_by_runs          0.000000\n",
       "win_by_wickets       0.000000\n",
       "player_of_match      0.471698\n",
       "venue                0.000000\n",
       "umpire1              0.157233\n",
       "umpire2              0.157233\n",
       "umpire3            100.000000\n",
       "dtype: float64"
      ]
     },
     "execution_count": 5,
     "metadata": {},
     "output_type": "execute_result"
    }
   ],
   "source": [
    "df.isnull().sum()/len(df)*100\n",
    "#The city,winner,player_of_match,umpire1,umpire2 columns contains less than 4% null value.\n",
    "#And The umpire column contains more than 75% null value."
   ]
  },
  {
   "cell_type": "code",
   "execution_count": 6,
   "id": "3fea3945",
   "metadata": {},
   "outputs": [],
   "source": [
    "#drop umpire3 column as it contains more than 75% of null values\n",
    "df.drop(\"umpire3\",axis=1,inplace=True)"
   ]
  },
  {
   "cell_type": "code",
   "execution_count": 7,
   "id": "ab7601ea",
   "metadata": {},
   "outputs": [],
   "source": [
    "#drop null values of city , winner ,player_of_match,umpire1,umpire2 column\n",
    "df.dropna(inplace=True)"
   ]
  },
  {
   "cell_type": "code",
   "execution_count": 8,
   "id": "1ece2ab0",
   "metadata": {
    "id": "1ece2ab0"
   },
   "outputs": [
    {
     "data": {
      "text/plain": [
       "id                 0.0\n",
       "season             0.0\n",
       "city               0.0\n",
       "date               0.0\n",
       "team1              0.0\n",
       "team2              0.0\n",
       "toss_winner        0.0\n",
       "toss_decision      0.0\n",
       "result             0.0\n",
       "dl_applied         0.0\n",
       "winner             0.0\n",
       "win_by_runs        0.0\n",
       "win_by_wickets     0.0\n",
       "player_of_match    0.0\n",
       "venue              0.0\n",
       "umpire1            0.0\n",
       "umpire2            0.0\n",
       "dtype: float64"
      ]
     },
     "execution_count": 8,
     "metadata": {},
     "output_type": "execute_result"
    }
   ],
   "source": [
    "df.isnull().sum()/len(df)*100\n",
    "#After cleaning the data no null values are remaining"
   ]
  },
  {
   "cell_type": "code",
   "execution_count": 9,
   "id": "dec18c41",
   "metadata": {
    "id": "dec18c41",
    "outputId": "86e951f7-7438-4947-b32e-8363d6753698"
   },
   "outputs": [
    {
     "data": {
      "text/plain": [
       "Mumbai            85\n",
       "Bangalore         63\n",
       "Kolkata           61\n",
       "Delhi             59\n",
       "Hyderabad         49\n",
       "Chennai           48\n",
       "Chandigarh        46\n",
       "Jaipur            33\n",
       "Pune              32\n",
       "Durban            15\n",
       "Ahmedabad         12\n",
       "Centurion         12\n",
       "Visakhapatnam     11\n",
       "Rajkot            10\n",
       "Dharamsala         9\n",
       "Johannesburg       8\n",
       "Cape Town          7\n",
       "Abu Dhabi          7\n",
       "Ranchi             7\n",
       "Port Elizabeth     7\n",
       "Cuttack            7\n",
       "Raipur             6\n",
       "Sharjah            6\n",
       "Kochi              5\n",
       "Indore             5\n",
       "Kanpur             4\n",
       "Nagpur             3\n",
       "Kimberley          3\n",
       "East London        3\n",
       "Bloemfontein       2\n",
       "Name: city, dtype: int64"
      ]
     },
     "execution_count": 9,
     "metadata": {},
     "output_type": "execute_result"
    }
   ],
   "source": [
    "#which city hosted most number of matches?draw bar plot and write down your insights\n",
    "df['city'].value_counts()"
   ]
  },
  {
   "cell_type": "code",
   "execution_count": 10,
   "id": "fce0eefb",
   "metadata": {},
   "outputs": [
    {
     "data": {
      "image/png": "[encoded data removed]",
      "text/plain": [
       "<Figure size 432x288 with 1 Axes>"
      ]
     },
     "metadata": {
      "needs_background": "light"
     },
     "output_type": "display_data"
    },
    {
     "data": {
      "text/plain": [
       "<Figure size 1440x1296 with 0 Axes>"
      ]
     },
     "metadata": {},
     "output_type": "display_data"
    }
   ],
   "source": [
    "df['city'].value_counts().plot(kind=\"bar\")\n",
    "plt.figure(figsize=(20,18))\n",
    "plt.show()\n",
    "#The most number of matches is hosted in mumbai city\n",
    "#The least number of matches is hosted in Bloemfontein city"
   ]
  },
  {
   "cell_type": "code",
   "execution_count": 11,
   "id": "6303ead7",
   "metadata": {
    "id": "6303ead7",
    "outputId": "ffcca36b-64f5-4607-b41b-11352f1790bc"
   },
   "outputs": [
    {
     "data": {
      "text/plain": [
       "array(['Wankhede Stadium', 'Dr DY Patil Sports Academy',\n",
       "       'Brabourne Stadium'], dtype=object)"
      ]
     },
     "execution_count": 11,
     "metadata": {},
     "output_type": "execute_result"
    }
   ],
   "source": [
    "#find all venue of mumbai city\n",
    "df[df['city']=='Mumbai']['venue'].unique()\n",
    "#There are total 3 venue's of mumbai city are Wankhede stadium,Dr DY Patil stadium and Brabourne stadium"
   ]
  },
  {
   "cell_type": "code",
   "execution_count": 12,
   "id": "683333cf",
   "metadata": {
    "id": "683333cf",
    "outputId": "f30015a6-85b1-47df-ed11-be38f642b872"
   },
   "outputs": [
    {
     "data": {
      "text/plain": [
       "Wankhede Stadium              57\n",
       "Dr DY Patil Sports Academy    17\n",
       "Brabourne Stadium             11\n",
       "Name: venue, dtype: int64"
      ]
     },
     "execution_count": 12,
     "metadata": {},
     "output_type": "execute_result"
    }
   ],
   "source": [
    "#now compare in which venue of mumbai most number of matches played (draw bar plot and  write down insights)\n",
    "df[df['city']=='Mumbai']['venue'].value_counts()"
   ]
  },
  {
   "cell_type": "code",
   "execution_count": 13,
   "id": "d3ad4344",
   "metadata": {},
   "outputs": [
    {
     "data": {
      "text/plain": [
       "<AxesSubplot:>"
      ]
     },
     "execution_count": 13,
     "metadata": {},
     "output_type": "execute_result"
    },
    {
     "data": {
      "image/png": "[encoded data removed]",
      "text/plain": [
       "<Figure size 432x288 with 1 Axes>"
      ]
     },
     "metadata": {
      "needs_background": "light"
     },
     "output_type": "display_data"
    }
   ],
   "source": [
    "df[df['city']=='Mumbai']['venue'].value_counts().plot(kind=\"bar\")\n",
    "#In Wankhede Stadium of mumbai city most number of matches were played which is 57.\n",
    "#In Brabourne Stadium of mumbai city least number of matches were played which is 11"
   ]
  },
  {
   "cell_type": "code",
   "execution_count": 14,
   "id": "c95c652f",
   "metadata": {
    "id": "c95c652f",
    "outputId": "60ed3cc6-b0ab-4c29-9e15-c38a70992d50"
   },
   "outputs": [
    {
     "data": {
      "text/plain": [
       "field    51\n",
       "bat      34\n",
       "Name: toss_decision, dtype: int64"
      ]
     },
     "execution_count": 14,
     "metadata": {},
     "output_type": "execute_result"
    }
   ],
   "source": [
    "#what is the preferred choice after winning a toss in mumbai\n",
    "df[df['city']=='Mumbai']['toss_decision'].value_counts()\n",
    "#The preferred choice after winning a toss in mumbai is Field because 51 times fielding was chosen in mumbai\n",
    "#batting was chosen 34 times in mumbai after winnig a toss"
   ]
  },
  {
   "cell_type": "code",
   "execution_count": 15,
   "id": "035a4c89",
   "metadata": {
    "id": "035a4c89",
    "outputId": "353c2ff4-1880-46cc-f41b-54d8f18fb86a"
   },
   "outputs": [
    {
     "data": {
      "text/plain": [
       "<AxesSubplot:>"
      ]
     },
     "execution_count": 15,
     "metadata": {},
     "output_type": "execute_result"
    },
    {
     "data": {
      "image/png": "[encoded data removed]",
      "text/plain": [
       "<Figure size 432x288 with 1 Axes>"
      ]
     },
     "metadata": {
      "needs_background": "light"
     },
     "output_type": "display_data"
    }
   ],
   "source": [
    "#graphical representation of above question\n",
    "df[df['city']=='Mumbai']['toss_decision'].value_counts().plot(kind=\"bar\")"
   ]
  },
  {
   "cell_type": "code",
   "execution_count": 16,
   "id": "986905bf",
   "metadata": {
    "id": "986905bf",
    "outputId": "262a4c84-d5a7-478a-c83f-c5444a8a8dd8"
   },
   "outputs": [
    {
     "data": {
      "text/plain": [
       "Mumbai Indians                 83\n",
       "Kolkata Knight Riders          77\n",
       "Delhi Daredevils               71\n",
       "Royal Challengers Bangalore    67\n",
       "Kings XI Punjab                67\n",
       "Chennai Super Kings            66\n",
       "Rajasthan Royals               61\n",
       "Deccan Chargers                43\n",
       "Sunrisers Hyderabad            34\n",
       "Pune Warriors                  20\n",
       "Gujarat Lions                  15\n",
       "Kochi Tuskers Kerala            8\n",
       "Rising Pune Supergiants         7\n",
       "Rising Pune Supergiant          6\n",
       "Name: toss_winner, dtype: int64"
      ]
     },
     "execution_count": 16,
     "metadata": {},
     "output_type": "execute_result"
    }
   ],
   "source": [
    "#which team won most number of toss\n",
    "df['toss_winner'].value_counts()\n",
    "#Mumbai Indians won most number of toss which is 83 times\n",
    "#While Rising Pune Supergiant won least number of toss which is 6 times"
   ]
  },
  {
   "cell_type": "code",
   "execution_count": 17,
   "id": "c178a3a0",
   "metadata": {
    "id": "c178a3a0",
    "outputId": "2b1a6b71-f806-4b7e-cb9c-8630b9249f0e"
   },
   "outputs": [
    {
     "data": {
      "text/plain": [
       "<AxesSubplot:>"
      ]
     },
     "execution_count": 17,
     "metadata": {},
     "output_type": "execute_result"
    },
    {
     "data": {
      "image/png": "[encoded data removed]",
      "text/plain": [
       "<Figure size 432x288 with 1 Axes>"
      ]
     },
     "metadata": {
      "needs_background": "light"
     },
     "output_type": "display_data"
    }
   ],
   "source": [
    "#show graphical representation of above question\n",
    "df['toss_winner'].value_counts().plot(kind=\"bar\")"
   ]
  },
  {
   "cell_type": "code",
   "execution_count": 18,
   "id": "fd9d71fe",
   "metadata": {
    "id": "fd9d71fe",
    "outputId": "3f39d6c6-0066-4014-b885-bc2c33be7a9d"
   },
   "outputs": [
    {
     "data": {
      "text/plain": [
       "field    41\n",
       "bat      39\n",
       "Name: toss_decision, dtype: int64"
      ]
     },
     "execution_count": 18,
     "metadata": {},
     "output_type": "execute_result"
    }
   ],
   "source": [
    "#find what mumbai indians preferred after winning a toss?\n",
    "df[df['team1']==\"Mumbai Indians\"][\"toss_decision\"].value_counts()\n",
    "# After winning a toss  mumbai indians preferred is Fielding because 41 times fielding was chosen.\n",
    "#batting was chosen 39 times."
   ]
  },
  {
   "cell_type": "code",
   "execution_count": 20,
   "id": "b96734d4",
   "metadata": {
    "id": "b96734d4",
    "outputId": "cce914a4-fc17-496d-ceba-a8c2149aff75"
   },
   "outputs": [
    {
     "data": {
      "text/plain": [
       "Mumbai Indians         7\n",
       "Chennai Super Kings    4\n",
       "Name: winner, dtype: int64"
      ]
     },
     "execution_count": 20,
     "metadata": {},
     "output_type": "execute_result"
    }
   ],
   "source": [
    "#head to head winning count of Mumbai Indians vs Chennai Super Kings\n",
    "df[(df['team1']==\"Mumbai Indians\")&(df['team2']==\"Chennai Super Kings\")]['winner'].value_counts()\n",
    "#Mumbai Indians won 7 times and Chennai Super Kings won 4 times"
   ]
  },
  {
   "cell_type": "code",
   "execution_count": 21,
   "id": "0298adbb",
   "metadata": {
    "id": "0298adbb",
    "outputId": "839beff0-aa2b-4c53-cf36-812d40739a74"
   },
   "outputs": [
    {
     "data": {
      "text/plain": [
       "Mumbai Indians                 45\n",
       "Chennai Super Kings             8\n",
       "Kings XI Punjab                 5\n",
       "Royal Challengers Bangalore     5\n",
       "Rajasthan Royals                5\n",
       "Deccan Chargers                 3\n",
       "Kolkata Knight Riders           3\n",
       "Pune Warriors                   3\n",
       "Rising Pune Supergiant          2\n",
       "Delhi Daredevils                2\n",
       "Kochi Tuskers Kerala            1\n",
       "Sunrisers Hyderabad             1\n",
       "Rising Pune Supergiants         1\n",
       "Gujarat Lions                   1\n",
       "Name: winner, dtype: int64"
      ]
     },
     "execution_count": 21,
     "metadata": {},
     "output_type": "execute_result"
    }
   ],
   "source": [
    "#Which team won most of the matches in mumbai?\n",
    "df[df['city']=='Mumbai']['winner'].value_counts()\n",
    "#Mumbai Indians won the most matches in mumbai which is 45 times\n",
    "#Gujarat Lions, Kochi Tuskers Kerala, Sunrisers Hyderabad, Rising Pune Supergiants, won the least matches in mumbai which is 1 "
   ]
  },
  {
   "cell_type": "code",
   "execution_count": 22,
   "id": "b24f7929",
   "metadata": {
    "id": "b24f7929",
    "outputId": "16a033b1-0698-4220-e6f9-e130eebb97a4"
   },
   "outputs": [
    {
     "data": {
      "text/plain": [
       "Mumbai Indians                 48\n",
       "Kolkata Knight Riders          44\n",
       "Chennai Super Kings            42\n",
       "Rajasthan Royals               34\n",
       "Delhi Daredevils               33\n",
       "Royal Challengers Bangalore    33\n",
       "Kings XI Punjab                27\n",
       "Deccan Chargers                19\n",
       "Sunrisers Hyderabad            16\n",
       "Gujarat Lions                  10\n",
       "Rising Pune Supergiant          5\n",
       "Kochi Tuskers Kerala            4\n",
       "Pune Warriors                   3\n",
       "Rising Pune Supergiants         3\n",
       "Name: winner, dtype: int64"
      ]
     },
     "execution_count": 22,
     "metadata": {},
     "output_type": "execute_result"
    }
   ],
   "source": [
    "#how many times each team won the toss and won the match\n",
    "df[df['toss_winner']==df['winner']]['winner'].value_counts()\n",
    "# 48 times Mumbai Indians  won most of the toss and won most of the match\n",
    "# 44 times Kolkata Knight Riders  won the toss and won the match\n",
    "#42 times Chennai Super Kings   won the toss and won the match and so on\n",
    "#3 times Pune Warriors and Rising Pune Supergiants won least of the toss and won least of the match"
   ]
  },
  {
   "cell_type": "code",
   "execution_count": 23,
   "id": "6dc62630",
   "metadata": {
    "id": "6dc62630",
    "outputId": "90b17620-79e4-43c6-8904-2b1779b4f597"
   },
   "outputs": [
    {
     "data": {
      "text/plain": [
       "Mumbai Indians                 26\n",
       "Chennai Super Kings             5\n",
       "Deccan Chargers                 3\n",
       "Rajasthan Royals                2\n",
       "Delhi Daredevils                2\n",
       "Royal Challengers Bangalore     2\n",
       "Kochi Tuskers Kerala            1\n",
       "Kolkata Knight Riders           1\n",
       "Gujarat Lions                   1\n",
       "Name: winner, dtype: int64"
      ]
     },
     "execution_count": 23,
     "metadata": {},
     "output_type": "execute_result"
    }
   ],
   "source": [
    "#how many times each team won the toss and won the match in mumbai\n",
    "df[(df['toss_winner']==df['winner'])&(df['city']=='Mumbai')]['winner'].value_counts()\n",
    "# 26 times Mumbai Indians  won most of the toss and won most of the match in mumbai\n",
    "# 5 times Chennai Super Kings   won the toss and won the match in mumbai\n",
    "# 3 times Deccan Chargers   won the toss and won the match in mumbai and so on\n",
    "#1 time Kochi Tuskers Kerala, Kolkata Knight Riders and Rising Pune Supergiants won least of the toss and won least of the match in mumbai"
   ]
  },
  {
   "cell_type": "code",
   "execution_count": 24,
   "id": "c9c8a04f",
   "metadata": {
    "id": "c9c8a04f",
    "outputId": "2e58cbfa-68e4-4fad-8178-b0b5c4c9cde4"
   },
   "outputs": [
    {
     "data": {
      "text/plain": [
       "M Chinnaswamy Stadium                                   63\n",
       "Eden Gardens                                            61\n",
       "Feroz Shah Kotla                                        59\n",
       "Wankhede Stadium                                        57\n",
       "Rajiv Gandhi International Stadium, Uppal               49\n",
       "MA Chidambaram Stadium, Chepauk                         48\n",
       "Punjab Cricket Association Stadium, Mohali              35\n",
       "Sawai Mansingh Stadium                                  33\n",
       "Dr DY Patil Sports Academy                              17\n",
       "Subrata Roy Sahara Stadium                              17\n",
       "Maharashtra Cricket Association Stadium                 15\n",
       "Kingsmead                                               15\n",
       "Sardar Patel Stadium, Motera                            12\n",
       "SuperSport Park                                         12\n",
       "Punjab Cricket Association IS Bindra Stadium, Mohali    11\n",
       "Dr. Y.S. Rajasekhara Reddy ACA-VDCA Cricket Stadium     11\n",
       "Brabourne Stadium                                       11\n",
       "Saurashtra Cricket Association Stadium                  10\n",
       "Himachal Pradesh Cricket Association Stadium             9\n",
       "New Wanderers Stadium                                    8\n",
       "Newlands                                                 7\n",
       "St George's Park                                         7\n",
       "Sheikh Zayed Stadium                                     7\n",
       "JSCA International Stadium Complex                       7\n",
       "Barabati Stadium                                         7\n",
       "Shaheed Veer Narayan Singh International Stadium         6\n",
       "Sharjah Cricket Stadium                                  6\n",
       "Holkar Cricket Stadium                                   5\n",
       "Nehru Stadium                                            5\n",
       "Green Park                                               4\n",
       "Vidarbha Cricket Association Stadium, Jamtha             3\n",
       "De Beers Diamond Oval                                    3\n",
       "Buffalo Park                                             3\n",
       "OUTsurance Oval                                          2\n",
       "Name: venue, dtype: int64"
      ]
     },
     "execution_count": 24,
     "metadata": {},
     "output_type": "execute_result"
    }
   ],
   "source": [
    "#which venue hosted most number of matches\n",
    "df['venue'].value_counts()\n",
    "#M Chinnaswamy Stadium hosted most number of matches which is 63 times\n",
    "#OUTsurance Oval hosted least number of matches which is 2 time"
   ]
  },
  {
   "cell_type": "code",
   "execution_count": 25,
   "id": "2af169eb",
   "metadata": {},
   "outputs": [
    {
     "data": {
      "image/png": "[encoded data removed]",
      "text/plain": [
       "<Figure size 576x576 with 1 Axes>"
      ]
     },
     "metadata": {
      "needs_background": "light"
     },
     "output_type": "display_data"
    }
   ],
   "source": [
    "plt.figure(figsize=(8,8))\n",
    "df['venue'].value_counts().plot(kind=\"barh\")\n",
    "plt.show()"
   ]
  },
  {
   "cell_type": "code",
   "execution_count": 26,
   "id": "77d02910",
   "metadata": {
    "id": "77d02910",
    "outputId": "5b4fc523-41dd-4fde-9c08-56718e280e31"
   },
   "outputs": [
    {
     "data": {
      "text/plain": [
       "7"
      ]
     },
     "execution_count": 26,
     "metadata": {},
     "output_type": "execute_result"
    }
   ],
   "source": [
    "#find how many matches chennai super kings played at M Chinnaswamy stadium?\n",
    "a=df[((df['team1']=='Chennai Super Kings')|(df['team2']=='Chennai Super Kings'))\n",
    "     &(df['venue']=='M Chinnaswamy Stadium')]\n",
    "len(a)\n",
    "#chennai super kings played 7 matches at M Chinnaswamy stadium"
   ]
  },
  {
   "cell_type": "code",
   "execution_count": 27,
   "id": "19a95e37",
   "metadata": {
    "id": "19a95e37",
    "outputId": "6ebc9e53-77d5-425b-d9c2-b86c287e72eb"
   },
   "outputs": [
    {
     "data": {
      "text/plain": [
       "Royal Challengers Bangalore    29\n",
       "Mumbai Indians                  8\n",
       "Kolkata Knight Riders           6\n",
       "Kings XI Punjab                 5\n",
       "Chennai Super Kings             4\n",
       "Rajasthan Royals                3\n",
       "Delhi Daredevils                3\n",
       "Sunrisers Hyderabad             2\n",
       "Rising Pune Supergiant          1\n",
       "Gujarat Lions                   1\n",
       "Deccan Chargers                 1\n",
       "Name: winner, dtype: int64"
      ]
     },
     "execution_count": 27,
     "metadata": {},
     "output_type": "execute_result"
    }
   ],
   "source": [
    "#who won most matches at M Chinnaswamy stadium?\n",
    "df[df['venue']=='M Chinnaswamy Stadium']['winner'].value_counts()\n",
    "#Royal Challengers Bangalore won most matches at M Chinnaswamy stadium which is 29 times\n",
    "#Rising Pune Supergiant, Gujarat Lions, Deccan Chargers won least matches at M Chinnaswamy stadium which is 1 time"
   ]
  },
  {
   "cell_type": "markdown",
   "id": "c99094ee",
   "metadata": {
    "id": "c99094ee"
   },
   "source": [
    "# year wise analysis"
   ]
  },
  {
   "cell_type": "code",
   "execution_count": 28,
   "id": "76a1a682",
   "metadata": {
    "id": "76a1a682"
   },
   "outputs": [
    {
     "data": {
      "text/plain": [
       "2013    76\n",
       "2012    74\n",
       "2011    72\n",
       "2010    60\n",
       "2016    60\n",
       "2017    58\n",
       "2008    58\n",
       "2009    57\n",
       "2015    57\n",
       "2014    53\n",
       "Name: season, dtype: int64"
      ]
     },
     "execution_count": 28,
     "metadata": {},
     "output_type": "execute_result"
    }
   ],
   "source": [
    "#matches played in each year\n",
    "df['season'].value_counts()\n",
    "#In 2013 most matches where played which is 73\n",
    "#In 2010 and 2016 same number of matches where played which is 60\n",
    "#Also in 2017 and 2008 same number of matches where played which is 58\n",
    "#And in 2009 and 2015 same number of matches where played which is 57\n",
    "#In 2014 least matches where played which is 53 "
   ]
  },
  {
   "cell_type": "code",
   "execution_count": 29,
   "id": "0bd7d600",
   "metadata": {
    "id": "0bd7d600",
    "outputId": "cc16c42c-e7e3-4860-e029-c0ad7f20b478"
   },
   "outputs": [
    {
     "data": {
      "text/html": [
       "<div>\n",
       "<style scoped>\n",
       "    .dataframe tbody tr th:only-of-type {\n",
       "        vertical-align: middle;\n",
       "    }\n",
       "\n",
       "    .dataframe tbody tr th {\n",
       "        vertical-align: top;\n",
       "    }\n",
       "\n",
       "    .dataframe thead th {\n",
       "        text-align: right;\n",
       "    }\n",
       "</style>\n",
       "<table border=\"1\" class=\"dataframe\">\n",
       "  <thead>\n",
       "    <tr style=\"text-align: right;\">\n",
       "      <th></th>\n",
       "      <th>id</th>\n",
       "      <th>season</th>\n",
       "      <th>city</th>\n",
       "      <th>date</th>\n",
       "      <th>team1</th>\n",
       "      <th>team2</th>\n",
       "      <th>toss_winner</th>\n",
       "      <th>toss_decision</th>\n",
       "      <th>result</th>\n",
       "      <th>dl_applied</th>\n",
       "      <th>winner</th>\n",
       "      <th>win_by_runs</th>\n",
       "      <th>win_by_wickets</th>\n",
       "      <th>player_of_match</th>\n",
       "      <th>venue</th>\n",
       "      <th>umpire1</th>\n",
       "      <th>umpire2</th>\n",
       "    </tr>\n",
       "  </thead>\n",
       "  <tbody>\n",
       "    <tr>\n",
       "      <th>381</th>\n",
       "      <td>382</td>\n",
       "      <td>2013</td>\n",
       "      <td>Kolkata</td>\n",
       "      <td>2013-04-03</td>\n",
       "      <td>Delhi Daredevils</td>\n",
       "      <td>Kolkata Knight Riders</td>\n",
       "      <td>Kolkata Knight Riders</td>\n",
       "      <td>field</td>\n",
       "      <td>normal</td>\n",
       "      <td>0</td>\n",
       "      <td>Kolkata Knight Riders</td>\n",
       "      <td>0</td>\n",
       "      <td>6</td>\n",
       "      <td>SP Narine</td>\n",
       "      <td>Eden Gardens</td>\n",
       "      <td>S Ravi</td>\n",
       "      <td>SJA Taufel</td>\n",
       "    </tr>\n",
       "    <tr>\n",
       "      <th>382</th>\n",
       "      <td>383</td>\n",
       "      <td>2013</td>\n",
       "      <td>Bangalore</td>\n",
       "      <td>2013-04-04</td>\n",
       "      <td>Royal Challengers Bangalore</td>\n",
       "      <td>Mumbai Indians</td>\n",
       "      <td>Mumbai Indians</td>\n",
       "      <td>field</td>\n",
       "      <td>normal</td>\n",
       "      <td>0</td>\n",
       "      <td>Royal Challengers Bangalore</td>\n",
       "      <td>2</td>\n",
       "      <td>0</td>\n",
       "      <td>CH Gayle</td>\n",
       "      <td>M Chinnaswamy Stadium</td>\n",
       "      <td>VA Kulkarni</td>\n",
       "      <td>C Shamshuddin</td>\n",
       "    </tr>\n",
       "    <tr>\n",
       "      <th>383</th>\n",
       "      <td>384</td>\n",
       "      <td>2013</td>\n",
       "      <td>Hyderabad</td>\n",
       "      <td>2013-04-05</td>\n",
       "      <td>Sunrisers Hyderabad</td>\n",
       "      <td>Pune Warriors</td>\n",
       "      <td>Pune Warriors</td>\n",
       "      <td>field</td>\n",
       "      <td>normal</td>\n",
       "      <td>0</td>\n",
       "      <td>Sunrisers Hyderabad</td>\n",
       "      <td>22</td>\n",
       "      <td>0</td>\n",
       "      <td>A Mishra</td>\n",
       "      <td>Rajiv Gandhi International Stadium, Uppal</td>\n",
       "      <td>S Ravi</td>\n",
       "      <td>SJA Taufel</td>\n",
       "    </tr>\n",
       "    <tr>\n",
       "      <th>384</th>\n",
       "      <td>385</td>\n",
       "      <td>2013</td>\n",
       "      <td>Delhi</td>\n",
       "      <td>2013-04-06</td>\n",
       "      <td>Rajasthan Royals</td>\n",
       "      <td>Delhi Daredevils</td>\n",
       "      <td>Rajasthan Royals</td>\n",
       "      <td>bat</td>\n",
       "      <td>normal</td>\n",
       "      <td>0</td>\n",
       "      <td>Rajasthan Royals</td>\n",
       "      <td>5</td>\n",
       "      <td>0</td>\n",
       "      <td>R Dravid</td>\n",
       "      <td>Feroz Shah Kotla</td>\n",
       "      <td>S Das</td>\n",
       "      <td>C Shamshuddin</td>\n",
       "    </tr>\n",
       "    <tr>\n",
       "      <th>385</th>\n",
       "      <td>386</td>\n",
       "      <td>2013</td>\n",
       "      <td>Chennai</td>\n",
       "      <td>2013-04-06</td>\n",
       "      <td>Mumbai Indians</td>\n",
       "      <td>Chennai Super Kings</td>\n",
       "      <td>Mumbai Indians</td>\n",
       "      <td>bat</td>\n",
       "      <td>normal</td>\n",
       "      <td>0</td>\n",
       "      <td>Mumbai Indians</td>\n",
       "      <td>9</td>\n",
       "      <td>0</td>\n",
       "      <td>KA Pollard</td>\n",
       "      <td>MA Chidambaram Stadium, Chepauk</td>\n",
       "      <td>M Erasmus</td>\n",
       "      <td>VA Kulkarni</td>\n",
       "    </tr>\n",
       "    <tr>\n",
       "      <th>...</th>\n",
       "      <td>...</td>\n",
       "      <td>...</td>\n",
       "      <td>...</td>\n",
       "      <td>...</td>\n",
       "      <td>...</td>\n",
       "      <td>...</td>\n",
       "      <td>...</td>\n",
       "      <td>...</td>\n",
       "      <td>...</td>\n",
       "      <td>...</td>\n",
       "      <td>...</td>\n",
       "      <td>...</td>\n",
       "      <td>...</td>\n",
       "      <td>...</td>\n",
       "      <td>...</td>\n",
       "      <td>...</td>\n",
       "      <td>...</td>\n",
       "    </tr>\n",
       "    <tr>\n",
       "      <th>452</th>\n",
       "      <td>453</td>\n",
       "      <td>2013</td>\n",
       "      <td>Hyderabad</td>\n",
       "      <td>2013-05-19</td>\n",
       "      <td>Kolkata Knight Riders</td>\n",
       "      <td>Sunrisers Hyderabad</td>\n",
       "      <td>Kolkata Knight Riders</td>\n",
       "      <td>bat</td>\n",
       "      <td>normal</td>\n",
       "      <td>0</td>\n",
       "      <td>Sunrisers Hyderabad</td>\n",
       "      <td>0</td>\n",
       "      <td>5</td>\n",
       "      <td>PA Patel</td>\n",
       "      <td>Rajiv Gandhi International Stadium, Uppal</td>\n",
       "      <td>Asad Rauf</td>\n",
       "      <td>S Asnani</td>\n",
       "    </tr>\n",
       "    <tr>\n",
       "      <th>453</th>\n",
       "      <td>454</td>\n",
       "      <td>2013</td>\n",
       "      <td>Delhi</td>\n",
       "      <td>2013-05-21</td>\n",
       "      <td>Chennai Super Kings</td>\n",
       "      <td>Mumbai Indians</td>\n",
       "      <td>Chennai Super Kings</td>\n",
       "      <td>bat</td>\n",
       "      <td>normal</td>\n",
       "      <td>0</td>\n",
       "      <td>Chennai Super Kings</td>\n",
       "      <td>48</td>\n",
       "      <td>0</td>\n",
       "      <td>MEK Hussey</td>\n",
       "      <td>Feroz Shah Kotla</td>\n",
       "      <td>NJ Llong</td>\n",
       "      <td>RJ Tucker</td>\n",
       "    </tr>\n",
       "    <tr>\n",
       "      <th>454</th>\n",
       "      <td>455</td>\n",
       "      <td>2013</td>\n",
       "      <td>Delhi</td>\n",
       "      <td>2013-05-22</td>\n",
       "      <td>Sunrisers Hyderabad</td>\n",
       "      <td>Rajasthan Royals</td>\n",
       "      <td>Sunrisers Hyderabad</td>\n",
       "      <td>bat</td>\n",
       "      <td>normal</td>\n",
       "      <td>0</td>\n",
       "      <td>Rajasthan Royals</td>\n",
       "      <td>0</td>\n",
       "      <td>4</td>\n",
       "      <td>BJ Hodge</td>\n",
       "      <td>Feroz Shah Kotla</td>\n",
       "      <td>S Ravi</td>\n",
       "      <td>RJ Tucker</td>\n",
       "    </tr>\n",
       "    <tr>\n",
       "      <th>455</th>\n",
       "      <td>456</td>\n",
       "      <td>2013</td>\n",
       "      <td>Kolkata</td>\n",
       "      <td>2013-05-24</td>\n",
       "      <td>Rajasthan Royals</td>\n",
       "      <td>Mumbai Indians</td>\n",
       "      <td>Rajasthan Royals</td>\n",
       "      <td>bat</td>\n",
       "      <td>normal</td>\n",
       "      <td>0</td>\n",
       "      <td>Mumbai Indians</td>\n",
       "      <td>0</td>\n",
       "      <td>4</td>\n",
       "      <td>Harbhajan Singh</td>\n",
       "      <td>Eden Gardens</td>\n",
       "      <td>C Shamshuddin</td>\n",
       "      <td>SJA Taufel</td>\n",
       "    </tr>\n",
       "    <tr>\n",
       "      <th>456</th>\n",
       "      <td>457</td>\n",
       "      <td>2013</td>\n",
       "      <td>Kolkata</td>\n",
       "      <td>2013-05-26</td>\n",
       "      <td>Mumbai Indians</td>\n",
       "      <td>Chennai Super Kings</td>\n",
       "      <td>Mumbai Indians</td>\n",
       "      <td>bat</td>\n",
       "      <td>normal</td>\n",
       "      <td>0</td>\n",
       "      <td>Mumbai Indians</td>\n",
       "      <td>23</td>\n",
       "      <td>0</td>\n",
       "      <td>KA Pollard</td>\n",
       "      <td>Eden Gardens</td>\n",
       "      <td>HDPK Dharmasena</td>\n",
       "      <td>SJA Taufel</td>\n",
       "    </tr>\n",
       "  </tbody>\n",
       "</table>\n",
       "<p>76 rows × 17 columns</p>\n",
       "</div>"
      ],
      "text/plain": [
       "      id  season       city        date                        team1  \\\n",
       "381  382    2013    Kolkata  2013-04-03             Delhi Daredevils   \n",
       "382  383    2013  Bangalore  2013-04-04  Royal Challengers Bangalore   \n",
       "383  384    2013  Hyderabad  2013-04-05          Sunrisers Hyderabad   \n",
       "384  385    2013      Delhi  2013-04-06             Rajasthan Royals   \n",
       "385  386    2013    Chennai  2013-04-06               Mumbai Indians   \n",
       "..   ...     ...        ...         ...                          ...   \n",
       "452  453    2013  Hyderabad  2013-05-19        Kolkata Knight Riders   \n",
       "453  454    2013      Delhi  2013-05-21          Chennai Super Kings   \n",
       "454  455    2013      Delhi  2013-05-22          Sunrisers Hyderabad   \n",
       "455  456    2013    Kolkata  2013-05-24             Rajasthan Royals   \n",
       "456  457    2013    Kolkata  2013-05-26               Mumbai Indians   \n",
       "\n",
       "                     team2            toss_winner toss_decision  result  \\\n",
       "381  Kolkata Knight Riders  Kolkata Knight Riders         field  normal   \n",
       "382         Mumbai Indians         Mumbai Indians         field  normal   \n",
       "383          Pune Warriors          Pune Warriors         field  normal   \n",
       "384       Delhi Daredevils       Rajasthan Royals           bat  normal   \n",
       "385    Chennai Super Kings         Mumbai Indians           bat  normal   \n",
       "..                     ...                    ...           ...     ...   \n",
       "452    Sunrisers Hyderabad  Kolkata Knight Riders           bat  normal   \n",
       "453         Mumbai Indians    Chennai Super Kings           bat  normal   \n",
       "454       Rajasthan Royals    Sunrisers Hyderabad           bat  normal   \n",
       "455         Mumbai Indians       Rajasthan Royals           bat  normal   \n",
       "456    Chennai Super Kings         Mumbai Indians           bat  normal   \n",
       "\n",
       "     dl_applied                       winner  win_by_runs  win_by_wickets  \\\n",
       "381           0        Kolkata Knight Riders            0               6   \n",
       "382           0  Royal Challengers Bangalore            2               0   \n",
       "383           0          Sunrisers Hyderabad           22               0   \n",
       "384           0             Rajasthan Royals            5               0   \n",
       "385           0               Mumbai Indians            9               0   \n",
       "..          ...                          ...          ...             ...   \n",
       "452           0          Sunrisers Hyderabad            0               5   \n",
       "453           0          Chennai Super Kings           48               0   \n",
       "454           0             Rajasthan Royals            0               4   \n",
       "455           0               Mumbai Indians            0               4   \n",
       "456           0               Mumbai Indians           23               0   \n",
       "\n",
       "     player_of_match                                      venue  \\\n",
       "381        SP Narine                               Eden Gardens   \n",
       "382         CH Gayle                      M Chinnaswamy Stadium   \n",
       "383         A Mishra  Rajiv Gandhi International Stadium, Uppal   \n",
       "384         R Dravid                           Feroz Shah Kotla   \n",
       "385       KA Pollard            MA Chidambaram Stadium, Chepauk   \n",
       "..               ...                                        ...   \n",
       "452         PA Patel  Rajiv Gandhi International Stadium, Uppal   \n",
       "453       MEK Hussey                           Feroz Shah Kotla   \n",
       "454         BJ Hodge                           Feroz Shah Kotla   \n",
       "455  Harbhajan Singh                               Eden Gardens   \n",
       "456       KA Pollard                               Eden Gardens   \n",
       "\n",
       "             umpire1        umpire2  \n",
       "381           S Ravi     SJA Taufel  \n",
       "382      VA Kulkarni  C Shamshuddin  \n",
       "383           S Ravi     SJA Taufel  \n",
       "384            S Das  C Shamshuddin  \n",
       "385        M Erasmus    VA Kulkarni  \n",
       "..               ...            ...  \n",
       "452        Asad Rauf       S Asnani  \n",
       "453         NJ Llong      RJ Tucker  \n",
       "454           S Ravi      RJ Tucker  \n",
       "455    C Shamshuddin     SJA Taufel  \n",
       "456  HDPK Dharmasena     SJA Taufel  \n",
       "\n",
       "[76 rows x 17 columns]"
      ]
     },
     "execution_count": 29,
     "metadata": {},
     "output_type": "execute_result"
    }
   ],
   "source": [
    "#lets analyse ipl season held in 2013\n",
    "#extract all the details of 2013 season\n",
    "#here we will create yearwise groups (hint: use groupby() function)\n",
    "df.groupby('season').get_group(2013)"
   ]
  },
  {
   "cell_type": "code",
   "execution_count": 30,
   "id": "bb396694",
   "metadata": {
    "id": "bb396694",
    "outputId": "a2ace143-c0ec-44b5-b027-c7c730bb702d"
   },
   "outputs": [
    {
     "data": {
      "text/plain": [
       "Kolkata       8\n",
       "Bangalore     8\n",
       "Hyderabad     8\n",
       "Delhi         8\n",
       "Chennai       8\n",
       "Pune          8\n",
       "Jaipur        8\n",
       "Mumbai        8\n",
       "Chandigarh    6\n",
       "Dharamsala    2\n",
       "Raipur        2\n",
       "Ranchi        2\n",
       "Name: city, dtype: int64"
      ]
     },
     "execution_count": 30,
     "metadata": {},
     "output_type": "execute_result"
    }
   ],
   "source": [
    "#which city hosted most number of matches in 2013 \n",
    "df.groupby('season').get_group(2013)['city'].value_counts()\n",
    "#Kolkata, Bangalore, Hyderabad, Delhi, Chennai, Pune, Jaipur and Mumbai hosted most number of matches in 2013 which is 8\n",
    "#Dharamsala, Raipur, Ranchi hosted least number of matches in 2013 which is 2"
   ]
  },
  {
   "cell_type": "code",
   "execution_count": null,
   "id": "db6beba9",
   "metadata": {
    "id": "db6beba9"
   },
   "outputs": [],
   "source": []
  }
 ],
 "metadata": {
  "colab": {
   "name": "IPL_DATA_CASESTUDY.ipynb",
   "provenance": []
  },
  "kernelspec": {
   "display_name": "Python 3 (ipykernel)",
   "language": "python",
   "name": "python3"
  },
  "language_info": {
   "codemirror_mode": {
    "name": "ipython",
    "version": 3
   },
   "file_extension": ".py",
   "mimetype": "text/x-python",
   "name": "python",
   "nbconvert_exporter": "python",
   "pygments_lexer": "ipython3",
   "version": "3.9.12"
  }
 },
 "nbformat": 4,
 "nbformat_minor": 5
}
